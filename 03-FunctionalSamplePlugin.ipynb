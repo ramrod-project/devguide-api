{
 "cells": [
  {
   "cell_type": "markdown",
   "metadata": {},
   "source": [
    "** We are going to be working through understanding and interacting with the PCP Plugin framework.  The \"Sample Plugin is copied below from the prior \"SamplePLugin\" notebook. **\n",
    "\n",
    "** The two core functions will be to: **\n",
    "* Request jobs\n",
    "* Respond with job output\n",
    "\n",
    "** The start function should be an infinite loop handling these two processes. **\n",
    "** The Logger is an object that you use to provide log information to central storage. **\n",
    "** The ext_signal is an external signal that will need to be checked within your process loop.  When a \"TRUE\" signal is received, the framework expects the start function to return. **\n",
    "** The functionality will need to be a list of valid commands. If you have built the commands for your plugin, from the Introduction.ipynb, copy and paste these commands into this notebook. **\n",
    "** WARNING:  The framework may terminate your thread. **\n",
    "\n",
    "** The sample command is pasted below and the command variable (cmdWget) is pasted into your SamplePlugin Class to demonstrate building the command(s) into your custom plugin. **"
   ]
  },
  {
   "cell_type": "code",
   "execution_count": null,
   "metadata": {},
   "outputs": [],
   "source": [
    "try:\n",
    "    from src.controller_plugin import ControllerPlugin\n",
    "except ImportError:\n",
    "    from sys import path\n",
    "    path.append(\"/root/backend-interpreter/plugin_interpreter\")\n",
    "    print(path)\n",
    "    from src.controller_plugin import ControllerPlugin\n",
    "    from os import environ\n",
    "    environ[\"PORT\"] = \"10000\" "
   ]
  },
  {
   "cell_type": "code",
   "execution_count": null,
   "metadata": {},
   "outputs": [],
   "source": [
    "cmdWget = {\"CommandName\" : \"wget\",\n",
    "          \"Tooltip\" : \"Retrieves raw webpage files from targeted systems\",\n",
    "          \"Output\" : True,\n",
    "          \"Inputs\" : [{\"Name\" : \"Target IP Address\",\n",
    "                     \"Type\" : \"url\",\n",
    "                     \"Tooltip\" : \"Modify the URL to the desired target IP address\",\n",
    "                     \"Value\" : \"http://192.168.1.100\"}]}"
   ]
  },
  {
   "cell_type": "code",
   "execution_count": null,
   "metadata": {},
   "outputs": [],
   "source": [
    "class SamplePlugin(ControllerPlugin):\n",
    "    functionality =  [cmdWget]                         # Get the commands you built from the prior tutorial\n",
    "    def __init__(self):\n",
    "        \"\"\"\n",
    "        The plugin class is the last class to init,\n",
    "        but Database and logger have not started yet\n",
    "        Should not be using the database handles or the logger in this fn\n",
    "        \"\"\"\n",
    "        self.name = \"SamplePlugin\"\n",
    "        super().__init__(self.name, self.functionality)\n",
    "    def start(self, logger, ext_signal):\n",
    "        \"\"\"\n",
    "        Start function is called by the supervisor only\n",
    "        This function may assume the logger and the db is already start()ed\n",
    "        This function should include all calls required to run until ext_signal says to stop.\n",
    "\n",
    "        :param logger: <central logger> object for all log handling\n",
    "        :param ext_signal: <ctypes.bool> the kill signal\n",
    "        :return: This function calls exit! when complete\n",
    "        \"\"\"\n",
    "        #################################################################################################\n",
    "        # Add Plugin specific startup routine here\n",
    "        \n",
    "        pass\n",
    "        ################################################################################################\n",
    "        # Add plugin control loop here\n",
    "        while not ext_signal.value:                                 # As discussed in section 3 above\n",
    "            # Assume you have a connected client for this controller\n",
    "            new_job = self._request_job()  # <dict> or None  \n",
    "            if not None:  # use your plugin functionality to get this job to your connected client\n",
    "                output_content = None # or <add code for the plugin content for this target/job (string obj)\n",
    "                # Give this content back to the framework\n",
    "                self._respond_output(job, output_content)\n",
    "            sleep(3)                                        \n",
    "        \n",
    "        ###############################################################################################\n",
    "        # Put cleanup code here\n",
    "        \n",
    "        pass\n",
    "        ###############################################################################################\n",
    "        \n",
    "    def _stop(self):\n",
    "        pass"
   ]
  },
  {
   "cell_type": "code",
   "execution_count": null,
   "metadata": {},
   "outputs": [],
   "source": [
    "SamplePlugin()"
   ]
  },
  {
   "cell_type": "code",
   "execution_count": null,
   "metadata": {},
   "outputs": [],
   "source": []
  }
 ],
 "metadata": {
  "kernelspec": {
   "display_name": "Python 3",
   "language": "python",
   "name": "python3"
  },
  "language_info": {
   "codemirror_mode": {
    "name": "ipython",
    "version": 3
   },
   "file_extension": ".py",
   "mimetype": "text/x-python",
   "name": "python",
   "nbconvert_exporter": "python",
   "pygments_lexer": "ipython3",
   "version": "3.6.3"
  }
 },
 "nbformat": 4,
 "nbformat_minor": 2
}
