{
 "cells": [
  {
   "cell_type": "markdown",
   "metadata": {},
   "source": [
    "** We are going to be working through understanding and interacting with the PCP Plugin framework.  The SamplePlugin is copied below from the prior SamplePlugin notebook. **\n",
    "\n",
    "** The two core functions will be to: **\n",
    "* Request jobs\n",
    "* Respond with job output\n",
    "\n",
    "** The start function should be an infinite loop handling these two processes. **\n",
    "** The functionality will need to be a list of valid commands. If you have built the commands for your plugin, from the Introduction.ipynb, copy and paste these commands into this notebook. **\n",
    "** WARNING:  The framework may terminate your thread, but it will call your _stop() function when the container is stopped. **\n",
    "\n",
    "** The sample command is pasted below and the command variable (cmdWget) is pasted into your SamplePlugin Class to demonstrate building the command(s) into your custom plugin. **"
   ]
  },
  {
   "cell_type": "code",
   "execution_count": null,
   "metadata": {},
   "outputs": [],
   "source": [
    "try:\n",
    "    from src.controller_plugin import ControllerPlugin\n",
    "except ImportError:\n",
    "    from sys import path\n",
    "    path.append(\"/root/backend-interpreter/plugin_interpreter\")\n",
    "    print(path)\n",
    "    from src.controller_plugin import ControllerPlugin\n",
    "    from os import environ\n",
    "    environ[\"PORT\"] = \"10000\" "
   ]
  },
  {
   "cell_type": "code",
   "execution_count": null,
   "metadata": {},
   "outputs": [],
   "source": [
    "cmdWget = {\"CommandName\" : \"wget\",\n",
    "          \"Tooltip\" : \"Retrieves raw webpage files from targeted systems\",\n",
    "          \"Output\" : True,\n",
    "          \"Inputs\" : [{\"Name\" : \"Target IP Address\",\n",
    "                     \"Type\" : \"url\",\n",
    "                     \"Tooltip\" : \"Modify the URL to the desired target IP address\",\n",
    "                     \"Value\" : \"http://192.168.1.100\"}]}"
   ]
  },
  {
   "cell_type": "code",
   "execution_count": null,
   "metadata": {},
   "outputs": [],
   "source": [
    "class SamplePlugin(ControllerPlugin):\n",
    "    functionality =  [cmdWget]                         # Get the commands you built from the prior tutorial\n",
    "    def __init__(self):\n",
    "        \"\"\"\n",
    "        The plugin class is the last class to init,\n",
    "        but Database and logger have not started yet\n",
    "        Should not be using the database handles or the logger in this fn\n",
    "        \"\"\"\n",
    "        self.name = \"SamplePlugin\"\n",
    "        super().__init__(self.name, self.functionality)\n",
    "    def _start(self):\n",
    "        \"\"\"\n",
    "        Start function is called by the base class and is the container entrypoint\n",
    "        This function will assume the db is already started\n",
    "        This function should include all calls required to run until _stop is called.\n",
    "\n",
    "        :return: This function calls exit! when complete\n",
    "        \"\"\"\n",
    "        #################################################################################################\n",
    "        # Add Plugin specific startup routine here\n",
    "        \n",
    "        pass\n",
    "        ################################################################################################\n",
    "        # Add plugin control loop here\n",
    "        while True:\n",
    "            # Assume you have a connected client for this controller\n",
    "            new_job = self.request_job()  # <dict> or None  \n",
    "            if not None:  # use your plugin functionality to get this job to your connected client\n",
    "                output_content = None # or <add code for the plugin content for this target/job (string obj)\n",
    "                # Give this content back to the framework\n",
    "                self.respond_output(job, output_content)\n",
    "            sleep(3)                                        \n",
    "        \n",
    "    def _stop(self):\n",
    "        ###############################################################################################\n",
    "        # Put cleanup code here\n",
    "        ###############################################################################################\n",
    "        \n",
    "        pass"
   ]
  },
  {
   "cell_type": "code",
   "execution_count": null,
   "metadata": {},
   "outputs": [],
   "source": [
    "SamplePlugin()"
   ]
  },
  {
   "cell_type": "code",
   "execution_count": null,
   "metadata": {},
   "outputs": [],
   "source": []
  }
 ],
 "metadata": {
  "kernelspec": {
   "display_name": "Python 3",
   "language": "python",
   "name": "python3"
  },
  "language_info": {
   "codemirror_mode": {
    "name": "ipython",
    "version": 3
   },
   "file_extension": ".py",
   "mimetype": "text/x-python",
   "name": "python",
   "nbconvert_exporter": "python",
   "pygments_lexer": "ipython3",
   "version": "3.6.3"
  }
 },
 "nbformat": 4,
 "nbformat_minor": 2
}
