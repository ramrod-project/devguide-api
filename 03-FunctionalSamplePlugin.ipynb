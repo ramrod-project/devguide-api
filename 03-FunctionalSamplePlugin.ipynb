{
 "cells": [
  {
   "cell_type": "markdown",
   "metadata": {},
   "source": [
    "# SimplePlugin development extension\n",
    "\n",
    "This chapter covers plugin development where existing code to perform a function exists, but needs integrated into PCP framework.\n",
    "\n",
    "Chapter 2 built a plugin capable of scraping webpages.\n",
    "\n",
    "This chapter will assume there is a 3rd party library connects over a socket and can scrape content from their IP\n",
    "\n",
    "this is important because you may want to scrape content from different source IPs and include that as a factor in a job\n",
    "\n",
    "users may not wish to deploy the entire PCP stack across a broad range of clients or may not be able to modify existing code.  "
   ]
  },
  {
   "cell_type": "code",
   "execution_count": 2,
   "metadata": {},
   "outputs": [],
   "source": [
    "\n",
    "#This Cell emulates the ramrodpcp system preparing the environment for the plugin\n",
    "from os import environ\n",
    "environ[\"PORT\"] = \"10000\" \n",
    "environ[\"RETHINK_HOST\"] = \"10.0.0.1\"\n",
    "environ[\"STAGE\"] = \"PROD\" \n",
    "environ['PLUGIN_NAME'] = \"SamplePlugin\"\n"
   ]
  },
  {
   "cell_type": "code",
   "execution_count": 1,
   "metadata": {},
   "outputs": [
    {
     "name": "stderr",
     "output_type": "stream",
     "text": [
      "\n",
      "Imported controller_plugin.py file is vendored from \n",
      "   https://github.com/ramrod-project/backend-interpreter/blob/master/src/controller_plugin.py  \n",
      "\n",
      "Ongoing development should obtain a copy from the ramrod-project/backend-interpreter\n",
      "\n"
     ]
    }
   ],
   "source": [
    "# Note: Always get the base class from upstream\n",
    "# the copy in this repo is vendored current implementation but may not be forward compatible at a later date\n",
    "from src.controller_plugin import ControllerPlugin"
   ]
  },
  {
   "cell_type": "markdown",
   "metadata": {},
   "source": [
    "## Assumptions\n",
    "\n",
    "1. There are numerous endpoints (identified by IPv4 address) that connect back to this plugin via raw socket\n",
    "2. Jobs may specify a specific scraper to run the scrape (via target). \n",
    "3. Connection with the scraper over raw socket is a proprietary (unknown to PCP) format. \n",
    "\n",
    "\n",
    "## Requirement changes\n",
    "Change requirement # [REQ-F]-2 to include the client address as shown below\n",
    "\n",
    "The PCP system will return a job for that specific client only (skipping jobs for other clients)\n",
    "\n",
    "The updated plugin may use self.get_job_for_client(location, port) function\n",
    "\n",
    "**important note**\n",
    "* environ['PORT'] is stored as a string\n",
    "* self.port is stored as an integer\n",
    "* self.get_job_for_client(location<str>, port<str>) requires the string version of the port.\n"
   ]
  },
  {
   "cell_type": "code",
   "execution_count": 5,
   "metadata": {},
   "outputs": [],
   "source": [
    "from src.controller_plugin import ControllerPlugin\n",
    "import socket\n",
    "\n",
    "#same command from Chapter 2 \n",
    "cmdWget = {\"CommandName\" : \"wget\",\n",
    "          \"Tooltip\" : \"Retrieves raw webpage content\",\n",
    "          \"Output\" : True,\n",
    "          \"Inputs\" : [{\"Name\" : \"Target IP Address\",\n",
    "                     \"Type\" : \"textbox\",\n",
    "                     \"Tooltip\" : \"Modify the URL to the desired target IP address\",\n",
    "                     \"Value\" : \"\"}]}\n",
    "FUNCTIONALITY = [cmdWget] # [REQ-C]-2.a\n",
    "class SamplePlugin(ControllerPlugin): # [REQ-C]-1\n",
    "    def __init__(self):\n",
    "        self.name = \"SamplePlugin\"\n",
    "        super().__init__(self.name, FUNCTIONALITY) # [REQ-C]-2.b\n",
    "    def _start(self): # [REQ-C]-3\n",
    "        self.s = socket.socket(socket.AF_INET, socket.SOCK_STREAM) ##  Chapter 3 Listen for client web scrapers\n",
    "        self.s.bind(('localhost', self.port)) ##  # self.port is dictated by the PCP system from user input\n",
    "        self.s.listen(1) ##  Chapter 3 Listen for client web scrapers\n",
    "        while True: #  [REQ-F]-1 (simple control loop)\n",
    "            conn, client_addr = self.s.accept() # Chapter 3 addition (external scraper connected)\n",
    "            # request job for specific no longer request a job for any client\n",
    "            job = self.request_job_for_client(client_addr, str(self.port))  # Chapter 3 added\n",
    "            if job: # [REQ-F]-2.B\n",
    "                url = job['JobCommand']['Inputs'][0][\"Value\"]\n",
    "                #conn.send(url) # send the url to the client scraper system (proprietary link format?)\n",
    "                output = \"\" # or conn.receive() # get data back \n",
    "                self.respond_output(job, output) # [REQ-F]-3\n",
    "\n",
    "plugin = SamplePlugin()"
   ]
  },
  {
   "cell_type": "markdown",
   "metadata": {},
   "source": [
    "## Additional Notes\n",
    "\n",
    "In this sample, the PCP system may invoke dozens or hundreds of SamplePlugins.  \n",
    "\n",
    "### PCP Guarantees\n",
    "1. The PCP system may spin up a fleet of multiple of the same plugins.  \n",
    "2. The request_job_for_client will give a job to at most one of the plugins which requests one.\n",
    "3. The request_job_for_client  function will deliver the jobs in ascending order of job['StartTime'] \n",
    "4. The request_job_for_client function will never deliver a job to a plugin where job['ExpireTime'] is in the past.\n",
    "5. The request_job_for_client function will skip jobs for other clients to find the first job for the requested client"
   ]
  },
  {
   "cell_type": "code",
   "execution_count": null,
   "metadata": {},
   "outputs": [],
   "source": []
  }
 ],
 "metadata": {
  "kernelspec": {
   "display_name": "Python 3",
   "language": "python",
   "name": "python3"
  },
  "language_info": {
   "codemirror_mode": {
    "name": "ipython",
    "version": 3
   },
   "file_extension": ".py",
   "mimetype": "text/x-python",
   "name": "python",
   "nbconvert_exporter": "python",
   "pygments_lexer": "ipython3",
   "version": "3.6.5"
  }
 },
 "nbformat": 4,
 "nbformat_minor": 2
}
