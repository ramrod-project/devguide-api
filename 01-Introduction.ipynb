{
 "cells": [
  {
   "cell_type": "markdown",
   "metadata": {},
   "source": [
    "### Plugin Controller API and Developer Guide\n",
    "\n",
    "** This interactive guide leverages an Alpine Linux container running Jupyter Notebook.  Its purpose is to support the Plugin developer in building a PCP compliant Plugin.  Aside from guiding the Plugin developer, this Plugin template (using Jupyter Notebook) also serves as an interactive presentation of the PCP Plugin API. **\n",
    "\n",
    "** First, re-save this Plugin template (this Jupyter Notebook) as [pluginName].ipynb, by selecting FILE-->RENAME from the top menu above. You will also want to save frequently, with FILE-- >SAVE AS CHECKPOINT, as well as using the DOWNLOAD AS .pynb, which will allow you to archive your plugin development progress in the event your system is restarted. While it is also possible to map your host machine folder to the container folder, allowing access to your Plugin notebook file, it is preferable to deliberately save and track the progress of your work using features within this Jupyter Notebook application. **\n",
    "\n",
    "** The following steps will guide the plugin developer through the PCP API and required steps to build a PCP compliant plugin. It does this using the interactive nature of Jupyter notebook, as well as a background helper script (python-builder.py) which converts the [pluginName].ipynb to an importable Python module which will complete creation of the plugin and add it to the list of plugins found by the PCP application. **\n"
   ]
  },
  {
   "cell_type": "markdown",
   "metadata": {},
   "source": [
    "### Introduction to using Jupyter Notebook\n",
    "\n",
    "** In case you have not used Jupyter Notebook before, we will start with a quick overview of the tool. This tool provides an interactive execution environment in a number of different scripting and programming languages, including: **\n",
    "\n",
    "* bash, C, C++, Go, Javascript (node.js), Octave, pig, Python 2, Python 3, R, Ruby, Spark - PySpark, Spark - SQL, Spark - Scala, and Spark - SparkR\n",
    "\n",
    "** This Notebook is able to use Python 2, Python 3, bash, and Javascript (node.js). The docker container running this Notebook is derived from nbgallery/jupyter-alpine, which keeps image size low, installing language support on first use of the KERNEL-->CHANGE KERNEL selection from the top menu. As a result, if additional language support is required (KERNEL showing on the right top corner of this Notebook), the running container must have access to internet-accessible repositories, or we would rebuild this custom image after loading the desired Kernel. So for anyone using this container, language support for the cells that are executing code are limited to:\n",
    "\n",
    " * bash, Python 2, and Python 3\n",
    " \n",
    " ** This custom Jupyter Notebook is pre-installed with support for Python 2, Python 3 and bash. Additional language support is straightforward (it will autoinstall on first use), but requires a container re-build with access to the internet-connected repositories. The language currently being \"interpreted\" is displayed in the upper right of this notebook. As an illustration of the capabilities of the Notebook, change this language by selecting \"bash\" under the Kernel-->Change Kernel--> bash. **\n",
    " \n",
    "** Next, click in the cell below that contains the bash script. Once in that cell, select CELL-- >RUN CELLS. The result of the script should be displayed below the cell being executed. **\n",
    "\n"
   ]
  },
  {
   "cell_type": "code",
   "execution_count": null,
   "metadata": {},
   "outputs": [],
   "source": [
    "greeting=\"hello, world\"                   `# Regular variable assignment ` \n",
    "declare -n message=greeting               `# Declare the nameref`\n",
    "echo $message                             `# Access through it`\n",
    "message=\"bye now\"                         `# Assign through the nameref`\n",
    "echo $greeting                            `# Demonstrate the change`"
   ]
  },
  {
   "cell_type": "markdown",
   "metadata": {},
   "source": [
    "** The following code installs docker to enable interaction with the host with respect to docker commands. The second block, using the Python 3 kernel, brings down the \"BRAIN\" functionality that will be needed in order to start the Plugin development process. DO NOT execute the code in the two cells below. This will already have been completed prior to delivery of the docker container backing this notebook (ramrodpcp/devguide-api). Also, if you do not have internet connection / access to the apk (alpine) code repositories and pypi (the python repository), the code execution will fail.  **"
   ]
  },
  {
   "cell_type": "code",
   "execution_count": null,
   "metadata": {},
   "outputs": [],
   "source": [
    "apk update                               `# updates Alpine linux package list`\n",
    "apk add docker                           `# Adds docker to the container that is running this Jupyter Notebook`"
   ]
  },
  {
   "cell_type": "code",
   "execution_count": null,
   "metadata": {},
   "outputs": [],
   "source": [
    "pip install ramrodbrain                  `# Adds the python module for rethink interaction, currently released on pypi`"
   ]
  },
  {
   "cell_type": "markdown",
   "metadata": {},
   "source": [
    "** You should have started this notebook from a host that has Docker version 18ce installed, and with the executable docker file at /run/docker.sock on that host. This Jupyter notebook application will have been started with the following command: **\n",
    "\n",
    "* docker run -it -v /run/docker.sock:/run/docker.sock ramrodpcp/devguide-api:dev\n",
    "\n",
    "** replacing `<host-user-folder>` with the desired host folder. **\n",
    "\n",
    "** This will start the docker container running this PCP Plugin Controller API and Developer Guide, using the docker installation on your host machine to expose the Jupyter Notebook application via https (requires an SSL configuration, otherwise falling back to insecure http) on port 443. **\n",
    "\n",
    "** Now go back to the menu, and change back to Python 3, by selecting KERNEL-->CHANGE KERNEL-->Python 3. Make sure the notebook is running Python 3 by looking in the upper right of the notebook. You should see \"Python 3\" displayed there. Your plugin controller will be written in Python 3 in order to ensure compatibility with the PCP controller application. You will have an opportunity to test your code changes within this Python notebook, as well as performing an integration test after completion of your plugin development. **\n",
    "\n",
    "** Note that you can also use this notebook to develop and test your controller - client interaction, using whatever scripting or programming languages and techniques required. If this notebook supports the language (supported languages in the list highlighted in the intro section above), you can test that interaction by adding a cell from above using INSERT-->CELL BELOW from the top menu. **\n",
    "\n",
    "** In the next section, this guide will walk you through the steps to build, verify, test, and subsequently deploy your custom plugin controller to be used with the PCP application. **"
   ]
  },
  {
   "cell_type": "markdown",
   "metadata": {},
   "source": [
    "### PCP API Requirements for the Plugin Developer\n",
    "\n",
    "** In the following sections, we will import the \"BRAIN\" functionality into this notebook in order to build the command set that you will need your plugin to support, saving the results as a JSON file. Next, we will walk through the necessary functions in the Plugin Controller itself, upload the JSON command set that you previously built, and load the resulting module into a test container to ensure it is operating as expected prior to performing integration tests against the PCP application. Next, we will deploy your newly created Plugin with the PCP Application and checkout its operation within the running application suite. Finally, we will tear down the PCP application suite and shut down this helper notebook and its underlying application. **"
   ]
  },
  {
   "cell_type": "markdown",
   "metadata": {},
   "source": [
    "### Setting up and Verifying the Plugin Controller Metadata (Converting commmand data to protocol buffers)\n",
    "\n",
    "** We will start by building the names and executable commands that your controller will need to communicate with it's client. **\n",
    "\n",
    "** We first load the module that will perform verification tests against the metadate you will be using, in order to ensure the resulting command protocol object is compatible with the PCP application. ** \n",
    "\n",
    "** Execute the code block below, by clicking in the cell block below, then selecting CELL-->RUN CELLS at the top menu. **"
   ]
  },
  {
   "cell_type": "code",
   "execution_count": 1,
   "metadata": {},
   "outputs": [],
   "source": [
    "import brain"
   ]
  },
  {
   "cell_type": "markdown",
   "metadata": {},
   "source": [
    "** Plugin commands will be defined in Python 3, so make sure the running Kernel is Python 3 as shown in the upper right corner of this notebook. The Plugin commands will be saved as a Python list of dictionaries, with each dictionary containing the required information for each command, illustrated in the following example:\n",
    "\n",
    "`GoodCommand = {\"CommandName\" : \"anystring\",\n",
    "              \"Tooltip\" : \"otherstring\",      \n",
    "              \"Output\" : True | False,                  # Select True for required Output, False for no output\n",
    "              \"Inputs\" : [{\"Name\" : \"string\",           # Name, Type, Tooltip, Value are minimum input requirements\n",
    "                          \"Type\" : \"String\",            # for each command.\n",
    "                          \"Tooltip : \"String\",\n",
    "                          \"Value\" : \"String\"}],\n",
    "              \"OptionalInputs\" : [{\"Name\" : \"string\",   # The same Name, Type, Tooltip, and Value are required for\n",
    "                                   \"Type\" : \"String\",   # each optional input, if any.\n",
    "                                   \"Tooltip\" : \"String\",\n",
    "                                   \"Value\" : \"String\"}]}`\n",
    "                                   \n",
    "** The data below repeats the above in an executable cell. Run the cell below. The output should be \"True\", which indicates that the example command is valid, and will load properly into the PCP application. **"
   ]
  },
  {
   "cell_type": "code",
   "execution_count": 11,
   "metadata": {},
   "outputs": [
    {
     "data": {
      "text/plain": [
       "True"
      ]
     },
     "execution_count": 11,
     "metadata": {},
     "output_type": "execute_result"
    }
   ],
   "source": [
    "GoodCommand = {\"CommandName\" : \"anystring\",\n",
    "              \"Tooltip\" : \"otherstring\",      \n",
    "              \"Output\" : True | False,                  # Select True for required Output, False for no output\n",
    "              \"Inputs\" : [{\"Name\" : \"string\",           # Name, Type, Tooltip, Value are minimum input requirements\n",
    "                          \"Type\" : \"str\",               # for each command.\n",
    "                          \"Tooltip\" : \"string\",\n",
    "                          \"Value\" : \"String\"}],\n",
    "              \"OptionalInputs\" : [{\"Name\" : \"string\",   # The same Name, Type, Tooltip, and Value are required for\n",
    "                                   \"Type\" : \"str\",   # each optional input, if any.\n",
    "                                   \"Tooltip\" : \"string\",\n",
    "                                   \"Value\" : \"string\"}]}\n",
    "\n",
    "brain.checks.verify(GoodCommand,brain.brain_pb2.Command())"
   ]
  },
  {
   "cell_type": "markdown",
   "metadata": {},
   "source": [
    "** Taking a simple, but practical example, let uss implement the commands required to grab web page data from a running server using wget. We will need to use the command wget, and a placeholder for the webpage to be retrieved. After deployment, the PCP application will allow us to edit the command sequence if needed, such as the web address, so we will keep it generic. Run the cell below, and look again for a \"True\" output, indicating the command is valid as built **"
   ]
  },
  {
   "cell_type": "code",
   "execution_count": 13,
   "metadata": {},
   "outputs": [
    {
     "data": {
      "text/plain": [
       "True"
      ]
     },
     "execution_count": 13,
     "metadata": {},
     "output_type": "execute_result"
    }
   ],
   "source": [
    "cmdWget = {\"CommandName\" : \"wget\",\n",
    "          \"Tooltip\" : \"Retrieves raw webpage files from targeted systems\",\n",
    "          \"Output\" : True,\n",
    "          \"Inputs\" : [{\"Name\" : \"Target IP Address\",\n",
    "                     \"Type\" : \"url\",\n",
    "                     \"Tooltip\" : \"Modify the URL to the desired target IP address\",\n",
    "                     \"Value\" : \"http://192.168.1.100\"}]}\n",
    "\n",
    "brain.checks.verify(cmdWget , brain.brain_pb2.Command())"
   ]
  },
  {
   "cell_type": "markdown",
   "metadata": {},
   "source": [
    "### Setting up the Plugin Controller\n",
    "\n",
    "** Next, we will walk through the controller plugin code, setting up the commands that your Plugin Controller will need to use in order to interact with the PCP application that will enable commiunication with the malware/client that it is intended to control. **"
   ]
  },
  {
   "cell_type": "code",
   "execution_count": 2,
   "metadata": {},
   "outputs": [
    {
     "name": "stdout",
     "output_type": "stream",
     "text": [
      "\"\"\"Plugin Template Module\n",
      "TODO:\n",
      "- add helper function for function advertisement\n",
      "- add helper function for job request\n",
      "\"\"\"\n",
      "\n",
      "from abc import ABC, abstractmethod\n",
      "from os import environ\n",
      "from queue import Empty\n",
      "\n",
      "from src import rethink_interface\n",
      "\n",
      "\n",
      "class ControllerPlugin(ABC):\n",
      "    \"\"\"\n",
      "    The ControllerPlugin class is an Abstract Base Class from which plugin\n",
      "    subclasses can be derived. Plugins should inherit this base class and\n",
      "    implement any subset of its methods that is required.\n",
      "    #\n",
      "    For proper instantiation, plugin subclasses should be initialized\n",
      "    with a 'name' string, and 'functionality' dictionary which describes\n",
      "    the functions available in the plugin.\n",
      "    #\n",
      "    Port allocation is done automatically by the controller, and upon\n",
      "    instantiation the plugin will be given a PORT environment variable\n",
      "    where it should be running its server.\n",
      "    #\n",
      "    The initialize_queues method *SHOUD NOT* be overridden by the\n",
      "    inheriting class, as the Supervisor will attempt to initialize\n",
      "    the command queues in the exact way prescribed below. The abstract\n",
      "    methods 'start' and '_stop' *MUST BE* overridden by the inheriting\n",
      "    class.\n",
      "    #\n",
      "    'start' and must take two arguments, a multiprocesing Pipe()\n",
      "    connecting the process to a central application logger, and a Value\n",
      "    of boolean type, which serves as a kill signal for the process (when\n",
      "    set to True).\n",
      "    #\n",
      "    The remainder of the module can contain whatever classes\n",
      "    and methods are needed for the functionality of the plugin,\n",
      "    the template onl requires a specified format for the above\n",
      "    exported plugin controller class.\n",
      "    \"\"\"\n",
      "\n",
      "    def __init__(self, name, functionality):\n",
      "        self.db_recv = None\n",
      "        self.signal = None\n",
      "        self.DBI = None\n",
      "        self.port = int(environ[\"PORT\"])\n",
      "        self.functionality = functionality\n",
      "        \"\"\"\n",
      "        List of dictionaries which advertises functionality of the plugin.\n",
      "        Example:\n",
      "        [\n",
      "            {\n",
      "                \"name\": \"read_file\",\n",
      "                \"input\": [\"string\"],\n",
      "                \"family\": \"filesystem\",\n",
      "                \"tooltip\": \"Provided a full directory path, \\\n",
      "                this function reads a file.\",\n",
      "                \"reference\": \"<reference url>\"\n",
      "            },\n",
      "            {\n",
      "                \"name\": \"send_file\",\n",
      "                \"input\": [\"string\", \"binary\"],\n",
      "                \"family\": \"filesystem\",\n",
      "                \"tooltip\": \"Provided a file and destination \\\n",
      "                directory, this function sends a file.\",\n",
      "                \"reference\": \"<reference url>\"\n",
      "            }\n",
      "        ]\n",
      "        The 'name' key is the unique identifier used to refer to the\n",
      "        function in communication between the front end interface and\n",
      "        the back end. This exact identifier will be sent back with\n",
      "        corresponding commands to let the plugin know which funcion\n",
      "        should be called.\n",
      "\n",
      "        The 'input' key is a list of required input types to properly\n",
      "        call the function. Possible input types include: string,\n",
      "        int, binary.\n",
      "\n",
      "        The 'tooltip' key is a human readable explanation of the\n",
      "        function usage. It will be displayed to the user through\n",
      "        the interface.\n",
      "        \"\"\"\n",
      "        self.name = name\n",
      "        \"\"\"Define server port/proto requirement (TCP/UDP) so docker can be run\n",
      "        properly.\"\"\"\n",
      "        super().__init__()\n",
      "\n",
      "    def initialize_queues(self, recv_queue):\n",
      "        \"\"\"Initialize command/response queues\n",
      "\n",
      "        The 'initialize_queues' method is called by the Supervisor with\n",
      "        two multiprocessing.Queue() instances with send_queue being the\n",
      "        response queue owned by the RethinkInterface instanc, and\n",
      "        recv_queue being a unique command queue used by the RethinkInterface\n",
      "        process to communicate with the plugin process.\n",
      "        #\n",
      "        These queues follow a defined message format depending on the\n",
      "        action which is being requested (in the case of the recv_queue),\n",
      "        or the data which is being sent back (send_queue). These message\n",
      "        formats are defined below above their respective methods.\n",
      "\n",
      "        Arguments:\n",
      "            send_queue {Queue} -- The queue used to send responses back to the\n",
      "            database interface.\n",
      "            recv_queue {Queue} -- The queue used to receive commands from the\n",
      "            frontend through the database.\n",
      "        \"\"\"\n",
      "        self.db_recv = recv_queue\n",
      "        self._advertise_functionality()\n",
      "\n",
      "    def _start(self, logger, signal):\n",
      "        host = \"rethinkdb\"\n",
      "        if environ[\"STAGE\"] == \"TESTING\":\n",
      "            host = \"127.0.0.1\"\n",
      "        self.DBI = rethink_interface.RethinkInterface(self.name, (host, 28015))\n",
      "        self.initialize_queues(self.DBI.plugin_queue)\n",
      "        self.DBI.start(logger, signal)\n",
      "        self.start(logger, signal)\n",
      "\n",
      "    @abstractmethod\n",
      "    def start(self, logger, signal):\n",
      "        \"\"\"Start the plugin\n",
      "\n",
      "        The 'start' method is what begins the control loop for the\n",
      "        plugin (whatever it needs to do). It will be used as a target\n",
      "        for the creation of a LinkedProcess by the Supervisor. The\n",
      "        Supervisor will also hand it a 'logger' Pipe() object which\n",
      "        the plugin can optionally use for logging to the central\n",
      "        logger. Usage:\n",
      "\n",
      "        logger.send([\n",
      "            self.name,\n",
      "            <string: message_body>,\n",
      "            <int: 10(DEBUG)|20(INFO)|30(WARN)|40(ERR)|50(CRIT)>,\n",
      "            <unix epoch: time.time()>\n",
      "        ])\n",
      "\n",
      "        This method is also passed 'signal', a boolean multiprocessing\n",
      "        Value (accessed via the signal.value attribute) which is\n",
      "        used as a 'kill signal' for the processes running in this\n",
      "        plugin container. When set to 'True', the mprocess is expected\n",
      "        to gracefullly tear itself down, or else the Supervisor will\n",
      "        terminate it after a timeout period.\n",
      "        \"\"\"\n",
      "        pass\n",
      "\n",
      "    def _update_job(self, job_id):\n",
      "        \"\"\"Updates the given job's state to the next state\n",
      "        Ready -> Pending, Pending -> Done\n",
      "\n",
      "        Arguments:\n",
      "            job_id {int} -- The job id to update the state of\n",
      "        \"\"\"\n",
      "\n",
      "        self.DBI.update_job(job_id)\n",
      "\n",
      "    def _update_job_error(self, job, msg=\"\"):\n",
      "        \"\"\"updates a job's status to error and outputs an error message\n",
      "        to the output table. This indicates that a command has in some way\n",
      "        failed to execute correctly.\n",
      "\n",
      "        Arguments:\n",
      "            job {dict} -- The job that errored\n",
      "            msg {str|int|byte|float} -- (optional) The error message to display\n",
      "        \"\"\"\n",
      "\n",
      "        self._respond_output(job, msg)\n",
      "        self.DBI.update_job_error(job[\"id\"])\n",
      "\n",
      "    def _update_job_status(self, job_id, status):\n",
      "        \"\"\"Updates a job's status to a specified status. _update_job should be\n",
      "        used in most cases.\n",
      "\n",
      "        Arguments:\n",
      "            job_id {int} -- The job id to update\n",
      "            status {string} -- what the new status will be. The valid states\n",
      "            are \"Ready\", \"Pending\", \"Done\", \"Error\", \"Stopped\", \"Waiting\",\n",
      "            and \"Active\"\n",
      "        \"\"\"\n",
      "\n",
      "        self.DBI._update_job_status(\n",
      "            {\n",
      "                \"job\": job_id,\n",
      "                \"status\": status\n",
      "            }\n",
      "        )\n",
      "\n",
      "    def _advertise_functionality(self):\n",
      "        \"\"\"Advertises functionality to database\n",
      "\n",
      "        This will send the contents of the self.functionality\n",
      "        attribute to the database interface. The table for\n",
      "        the plugin will be named the exact same string as the\n",
      "        self.name attribute.\n",
      "        \"\"\"\n",
      "        self.DBI.create_plugin_table((self.name, self.functionality))\n",
      "\n",
      "    def _request_job(self):\n",
      "        \"\"\"Request next job\n",
      "\n",
      "        This first checks the receive queue to see if there is\n",
      "        a job waiting, then if the queue is empty, it sends a\n",
      "        request to the database handler to reply with the next\n",
      "        new job whose start time is in the past.\n",
      "\n",
      "        Returns:\n",
      "            {dict} -- a dictionary describing the job containing\n",
      "            {\n",
      "                \"id\": {string} -- GUID, not needed for plugin,\n",
      "                \"JobTarget\": {dict} -- target from Targets table,\n",
      "                \"Status\": {string} -- the status of the job,\n",
      "                \"StartTime\": {int} -- unix epoch start time,\n",
      "                \"JobCommand\": {dict} -- command to run\n"
     ]
    },
    {
     "name": "stdout",
     "output_type": "stream",
     "text": [
      "            }\n",
      "        \"\"\"\n",
      "        try:\n",
      "            job = self.db_recv.get_nowait()\n",
      "        except Empty:\n",
      "            job = None\n",
      "\n",
      "        if job:\n",
      "            self._update_job(job[\"id\"])\n",
      "        return job\n",
      "\n",
      "    def _respond_output(self, job, output):\n",
      "        \"\"\"Provide job response output\n",
      "\n",
      "        This method is a helper method for the plugin\n",
      "        which is inheriting this base class. The plugin\n",
      "        must pass this function the job object it\n",
      "        received from the _request_job helper function\n",
      "        and the corresponding output from the\n",
      "        command.\n",
      "\n",
      "        This method also performs some basic type\n",
      "        checking on the output.\n",
      "\n",
      "        Arguments:\n",
      "            job {dict} -- the dictionary object for\n",
      "            the job received from the database/frontend.\n",
      "            output {} -- [description]\n",
      "        \"\"\"\n",
      "        if not isinstance(output, (bytes, str, int, float)):\n",
      "            raise TypeError\n",
      "        self.DBI.send_output({\n",
      "            \"job\": job,\n",
      "            \"output\": output\n",
      "        })\n",
      "        self._update_job(job[\"id\"])\n",
      "\n",
      "    @abstractmethod\n",
      "    def _stop(self, **kwargs):\n",
      "        \"\"\"Stop the plugin\n",
      "\n",
      "        This method should be used and called when the exit signal\n",
      "        is sent to the program subprocesses. Pass any keyword args\n",
      "        needed and execute any cleanup required.\n",
      "        \"\"\"\n",
      "        exit(0)\n"
     ]
    }
   ],
   "source": [
    "cd /home/linpy/backend-interpreter/plugin_interpreter/src\n",
    "cat controller_plugin.py"
   ]
  },
  {
   "cell_type": "markdown",
   "metadata": {},
   "source": [
    "** Now open SamplePlugin.ipynb to learn how to buid a custom plugin **"
   ]
  }
 ],
 "metadata": {
  "kernelspec": {
   "display_name": "Python 3",
   "language": "python",
   "name": "python3"
  },
  "language_info": {
   "codemirror_mode": {
    "name": "ipython",
    "version": 3
   },
   "file_extension": ".py",
   "mimetype": "text/x-python",
   "name": "python",
   "nbconvert_exporter": "python",
   "pygments_lexer": "ipython3",
   "version": "3.6.3"
  }
 },
 "nbformat": 4,
 "nbformat_minor": 2
}
