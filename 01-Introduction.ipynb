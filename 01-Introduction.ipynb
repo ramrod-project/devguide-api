{
 "cells": [
  {
   "cell_type": "markdown",
   "metadata": {},
   "source": [
    "### Plugin Controller API and Developer Guide\n",
    "\n",
    "** This interactive guide leverages an Alpine Linux container running Jupyter Notebook. It's purpose is to support the Plugin developer in building a PCP compliant Plugin. Aside from guiding the Plugin developer, this Plugin template (Using Jupyter Notebook) also serves as an interactive presentation of the PCP Plugin API. **\n",
    "\n",
    "** First, re-save this Plugin template (this Jupyter notebook) as [pluginName].ipynb, by selecting FILE-->RENAME from the top menu above. You'll also want to save frequently, with FILE-- >SAVE AS CHECKPOINT, as well as using the DOWNLOAD AS .pynb, which will allow you to archive your plugin development progress in the event your system is restarted. While it is also possible to map your host machine folder to the container folder, allowing access to your Plugin notebook file, it is preferable to deliberately save and track the progress of your work using features within this Jupyter notebook application. **\n",
    "\n",
    "** The following steps will guide the plugin developer through the PCP API and required steps to build a PCP compliant plugin. It does this using the interactive nature of Jupyter notebook, as well as a background helper script (python-builder.py) which converts the [pluginName].ipynb to an importable python module which will complete creation of the plugin and add it to the list of plugins found by the PCP application. **\n"
   ]
  },
  {
   "cell_type": "markdown",
   "metadata": {},
   "source": [
    "### Introduction to using Jupyter Notebook\n",
    "\n",
    "** In case you haven't used Jupyter notebook before, we'll start with a quick overview of the tool. This tool provides an interactive execution environment, in a number of different scripting and programming languages, including: **\n",
    "\n",
    "* bash, C, C++, Go, Javascript (node.js), Octave, pig, Python 2, Python 3, R, Ruby, Spark - PySpark, Spark - SQL, Spark - Scala, and Spark - SparkR\n",
    "\n",
    "** This notebook is able to use Python 2, Python 3, bash, and Javascript (node.js). The docker container running this notebook is derived from nbgallery/jupyter-alpine, which keeps image size low, installing language support on first use of the KERNEL-->CHANGE KERNEL selection from the top menu. As a result, if additional language support is required (KERNEL showing on the right top corner of this notebook), the running container must have access to internet-accessible repositories, or we would rebuild this custom image after loading the desired Kernel. So for anyone using this container, language support for the cells that are executing code are limited to:\n",
    "\n",
    " * bash, Javascript (node.js), Python 2, and Python 3\n",
    " \n",
    " ** This custom Jupyter Notebook is pre-installed with support for Python 2, Python 3 and Javascript (node.js). Additional language support is straightforward (it will autoinstall on first use), but requires a container re-build with access to the internet-connected repositories. The language currently being \"interpreted\" is displayed in the upper right of this notebook. As an illustration of the capabilities of the notebook, change this language by selecting \"bash\" under the Kernel-->Change Kernel--> bash. **\n",
    " \n",
    "** Next, click in the cell below that contains the bash script. Once in that cell, select CELL-- >RUN CELLS. The result of the script should be displayed below the cell being executed. **\n",
    "\n"
   ]
  },
  {
   "cell_type": "code",
   "execution_count": null,
   "metadata": {},
   "outputs": [],
   "source": [
    "greeting=\"hello, world\"                   `# Regular variable assignment ` \n",
    "declare -n message=greeting               `# Declare the nameref`\n",
    "echo $message                             `# Access through it`\n",
    "message=\"bye now\"                         `# Assign through the nameref`\n",
    "echo $greeting                            `# Demonstrate the change`"
   ]
  },
  {
   "cell_type": "markdown",
   "metadata": {},
   "source": [
    "** The following code installs docker to enable interaction with the host with respect to docker commands. The second block, using the Python 3 kernel, brings down the \"BRAIN\" functionality that will be needed in order to start the Plugin development process. DO NOT execute the code in the two cells below. This will already have been completed prior to delivery of the docker container backing this notebook (ramrodpcp/devguide-api). Also, if you don't have internet connection / access to the apk (alpine) code repositories and pypi (the python repository), the code execution will fail.  **"
   ]
  },
  {
   "cell_type": "code",
   "execution_count": null,
   "metadata": {},
   "outputs": [],
   "source": [
    "apk update                               `# updates Alpine linux package list`\n",
    "apk add docker                           `# Adds docker to the container that is running this Jupyter Notebook`"
   ]
  },
  {
   "cell_type": "code",
   "execution_count": null,
   "metadata": {},
   "outputs": [],
   "source": [
    "pip install ramrodbrain                  `# Adds the python module for rethink interaction, currently released on pypi`"
   ]
  },
  {
   "cell_type": "markdown",
   "metadata": {},
   "source": [
    "** You should have started this notebook from a host that has Docker version 18ce installed, and with the executable docker file at /run/docker.sock on that host. This Jupyter notebook application will have been started with the following command: **\n",
    "\n",
    "* docker run -it -v /run/docker.sock:/run/docker.sock ramrodpcp/devguide-api:dev\n",
    "\n",
    "** replacing `<host-user-folder>` with the desired host folder. **\n",
    "\n",
    "** This will start the docker container running this PCP Plugin Controller API and Developer Guide, using the docker installation on your host machine to expose the Jupyter Notebook application via https (requires an SSL configuration, otherwise falling back to insecure http) on port 443. **\n",
    "\n",
    "** Now go back to the menu, and change back to Python 3, by selecting KERNEL-->CHANGE KERNEL-->Python 3. Make sure the notebook is running Python 3 by looking in the upper right of the notebook. You should see \"Python 3\" displayed there. Your plugin controller will be written in Python 3 in order to ensure compatibility with the PCP controller application. You will have an opportunity to test your code changes within this Python notebook, as well as performing an integration test after completion of your plugin development. **\n",
    "\n",
    "** Note that you can also use this notebook to develop and test your controller - client interaction, using whatever scripting or programming languages and techniques required. If this notebook supports the language (supported languages in the list highlighted in the intro section above), you can test that interaction by adding a cell from above using INSERT-->CELL BELOW from the top menu. **\n",
    "\n",
    "** In the next section, this guide will walk you through the steps to build, verify, test, and subsequently deploy, your custom plugin controller to be used with the PCP application. **"
   ]
  },
  {
   "cell_type": "markdown",
   "metadata": {},
   "source": [
    "### PCP API Requirements for the Plugin Developer\n",
    "\n",
    "** In the following sections, we will import the \"BRAIN\" functionality into this notebook in order to build the command set that you will need your plugin to support, saving the results as a JSON file. Next, we'll walk through the necessary functions in the Plugin Controller itself, upload the JSON command set that you previously built, and load the resulting module into a test container to ensure it is operating as expected prior to performing integration tests against the PCP application. Next, we will deploy your newly created Plugin with the PCP Application and checkout its operation within the running application suite. Finally, we will tear down the PCP application suite and shut down this helper notebook and its underlying application. **"
   ]
  },
  {
   "cell_type": "markdown",
   "metadata": {},
   "source": [
    "### Setting up and Verifying the Plugin Controller Metadata (Converting commmand data to protocol buffers)\n",
    "\n",
    "** We will start by building the names and executable commands that your controller will need to communicate with it's client. **\n",
    "\n",
    "** We first load the module that will perform verification tests against the metadate you'll be using, in order to ensure the resulting command protocol object is compatible with the PCP application. ** \n",
    "\n",
    "** Execute the code block below, by clicking in the cell block below, then selecting CELL-->RUN CELLS at the top menu **"
   ]
  },
  {
   "cell_type": "code",
   "execution_count": null,
   "metadata": {},
   "outputs": [],
   "source": [
    "import brain"
   ]
  },
  {
   "cell_type": "markdown",
   "metadata": {},
   "source": [
    "** Plugin commands will be defined in Python 3, so make sure the running Kernel is Python 3 as shown in the upper right corner of this notebook. The Plugin commands will be saved as a Python list of dictionaries, with each dictionary containing the required information for each command, illustrated in the following example: **\n",
    "\n",
    "`GoodCommand = {\"CommandName\" : \"anystring\",\n",
    "              \"Tooltip\" : \"otherstring\",      \n",
    "              \"Output\" : True | False,                  # Select True for required Output, False for no output\n",
    "              \"Inputs\" : [{\"Name\" : \"string\",           # Name, Type, Tooltip, Value are minimum input requirements\n",
    "                          \"Type\" : \"String\",            # for each command.\n",
    "                          \"Tooltip : \"String\",\n",
    "                          \"Value\" : \"String\"}],\n",
    "              \"OptionalInputs\" : [{\"Name\" : \"string\",   # The same Name, Type, Tooltip, and Value are required for\n",
    "                                   \"Type\" : \"String\",   # each optional input, if any.\n",
    "                                   \"Tooltip\" : \"String\",\n",
    "                                   \"Value\" : \"String\"}]}`\n",
    "                                   \n",
    "** The data below repeats the above in an executable cell. Run the cell below. The output should be \"True\", which indicates that the example command is valid, and will load properly into the PCP application. **\n",
    "\n",
    "** The definition of each element is generally self-explanatory, but for completeness, a further description of each of the parts of a valid command are detailed below: **\n",
    "\n",
    "* \"CommandName\" - The name of the command being defined.\n",
    "\n",
    "* \"Tooltip\" - A summary of the purpose of the command suitable for an operator to select for use.\n",
    "\n",
    "* \"Output\" - Defines whether or not output is expected after executing the command (either True or False).\n",
    "\n",
    "* \"Inputs\" - A list of inputes that are required in order to execute the command. This list can be empty.\n",
    "\n",
    "* \"OptionalInputs\" - A list of additional inputs that are not required but may be added to execute the command.\n",
    "\n",
    "** Each input has the following, arranged as a dictionary (key : value pair): **\n",
    "\n",
    "* \"Name\" - What the input should be called for reference.\n",
    "\n",
    "* \"Type\" - The data type expected for this input.\n",
    "\n",
    "* \"Tooltip\" - Summary of the purpose of the input.\n",
    "\n",
    "* \"Value\" which will be the variable used to hold the input. It can be empty, or if filled out, this will become the default value for the input."
   ]
  },
  {
   "cell_type": "code",
   "execution_count": null,
   "metadata": {},
   "outputs": [],
   "source": [
    "GoodCommand = {\"CommandName\" : \"anystring\",\n",
    "              \"Tooltip\" : \"otherstring\",      \n",
    "              \"Output\" : True | False,                  # Select True for required Output, False for no output\n",
    "              \"Inputs\" : [{\"Name\" : \"string\",           # Name, Type, Tooltip, Value are minimum input requirements\n",
    "                          \"Type\" : \"str\",               # for each command.\n",
    "                          \"Tooltip\" : \"string\",\n",
    "                          \"Value\" : \"String\"}],\n",
    "              \"OptionalInputs\" : [{\"Name\" : \"string\",   # The same Name, Type, Tooltip, and Value are required for\n",
    "                                   \"Type\" : \"str\",   # each optional input, if any.\n",
    "                                   \"Tooltip\" : \"string\",\n",
    "                                   \"Value\" : \"string\"}]}\n",
    "\n",
    "brain.checks.verify(GoodCommand,brain.brain_pb2.Command())"
   ]
  },
  {
   "cell_type": "markdown",
   "metadata": {},
   "source": [
    "** Taking a simple, but practical example, let's implement the commands required to grab web page data from a running server using wget. We'll need to use the command wget, and a placeholder for the webpage to be retrieved. After deployment, the PCP application will allow us to edit the command sequence if needed, such as the web address, so we'll keep it generic. Run the cell below, and look again for a \"True\" output, indicating the command is valid as built **"
   ]
  },
  {
   "cell_type": "code",
   "execution_count": null,
   "metadata": {},
   "outputs": [],
   "source": [
    "cmdWget = {\"CommandName\" : \"wget\",\n",
    "          \"Tooltip\" : \"Retrieves raw webpage files from targeted systems\",\n",
    "          \"Output\" : True,\n",
    "          \"Inputs\" : [{\"Name\" : \"Target IP Address\",\n",
    "                     \"Type\" : \"url\",\n",
    "                     \"Tooltip\" : \"Modify the URL to the desired target IP address\",\n",
    "                     \"Value\" : \"http://192.168.1.100\"}]}\n",
    "\n",
    "brain.checks.verify(cmdWget , brain.brain_pb2.Command())"
   ]
  },
  {
   "cell_type": "markdown",
   "metadata": {},
   "source": [
    "### Setting up the Plugin Controller\n",
    "\n",
    "** Next, we will walk through the controller plugin code, setting up the commands that your Plugin Controller will need to use in order to interact with the PCP application that will enable commiunication with the malware/client that it is intended to control. **"
   ]
  },
  {
   "cell_type": "code",
   "execution_count": null,
   "metadata": {},
   "outputs": [],
   "source": [
    "cd /root/backend-interpreter/plugin_interpreter/src\n",
    "cat controller_plugin.py"
   ]
  },
  {
   "cell_type": "markdown",
   "metadata": {},
   "source": [
    "** Now open SamplePlugin.ipynb to learn how to buid a custom plugin **"
   ]
  }
 ],
 "metadata": {
  "kernelspec": {
   "display_name": "Bash",
   "language": "bash",
   "name": "bash"
  },
  "language_info": {
   "codemirror_mode": "shell",
   "file_extension": ".sh",
   "mimetype": "text/x-sh",
   "name": "bash"
  }
 },
 "nbformat": 4,
 "nbformat_minor": 2
}
