{
 "cells": [
  {
   "cell_type": "markdown",
   "metadata": {},
   "source": [
    "** We will start by building a sample plugin.  We will need to start with the base class for a Plugin Controller. **"
   ]
  },
  {
   "cell_type": "code",
   "execution_count": 1,
   "metadata": {},
   "outputs": [
    {
     "name": "stdout",
     "output_type": "stream",
     "text": [
      "['', '/usr/bin', '/usr/lib/python36.zip', '/usr/lib/python3.6', '/usr/lib/python3.6/lib-dynload', '/usr/lib/python3.6/site-packages', '/usr/lib/python3.6/site-packages/IPython/extensions', '/root/.ipython', '/root/backend-interpreter/plugin_interpreter']\n"
     ]
    }
   ],
   "source": [
    "try:\n",
    "    from src.controller_plugin import ControllerPlugin\n",
    "except ImportError:\n",
    "    from sys import path\n",
    "    path.append(\"/root/backend-interpreter/plugin_interpreter\")\n",
    "    print(path)\n",
    "    from src.controller_plugin import ControllerPlugin\n",
    "    from os import environ\n",
    "    environ[\"PORT\"] = \"10000\"                                 #The PCP Framework selects the port you will need to use"
   ]
  },
  {
   "cell_type": "markdown",
   "metadata": {},
   "source": [
    "** Filename must be the same as the Class Name.  For this example, we will use filename SamplePlugin.py and Class Name SamplePlugin for the \"Sample Plugin\" plugin. **\n",
    "** The __init__ shown below is the minimum requirements for the Plugin."
   ]
  },
  {
   "cell_type": "code",
   "execution_count": 2,
   "metadata": {},
   "outputs": [],
   "source": [
    "class SamplePlugin(ControllerPlugin):\n",
    "    functionality =  []                         # Get the commands you built from the prior tutorial\n",
    "    def __init__(self):\n",
    "        \"\"\"\n",
    "        The plugin class is the last class to init,\n",
    "        but Database and logger have not started yet\n",
    "        Should not be using the database handles or the logger in this fn\n",
    "        \"\"\"\n",
    "        self.name = \"SamplePlugin\"\n",
    "        super().__init__(self.name, self.functionality)"
   ]
  },
  {
   "cell_type": "markdown",
   "metadata": {},
   "source": [
    "** Note that if you instantiate this new SamplePlugin, it will error out since you must write a minimum of a start and a stop function to overwrite the default functions. **"
   ]
  },
  {
   "cell_type": "code",
   "execution_count": 3,
   "metadata": {},
   "outputs": [
    {
     "ename": "TypeError",
     "evalue": "Cannot instantiate abstract class SamplePlugin with abstract methods _stop, start",
     "output_type": "error",
     "traceback": [
      "\u001b[0;31m---------------------------------------------------------------------------\u001b[0m",
      "\u001b[0;31mTypeError\u001b[0m                                 Traceback (most recent call last)",
      "\u001b[0;32m<ipython-input-3-cc880b01f02e>\u001b[0m in \u001b[0;36m<module>\u001b[0;34m()\u001b[0m\n\u001b[0;32m----> 1\u001b[0;31m \u001b[0mSamplePlugin\u001b[0m\u001b[0;34m(\u001b[0m\u001b[0;34m)\u001b[0m\u001b[0;34m\u001b[0m\u001b[0m\n\u001b[0m",
      "\u001b[0;31mTypeError\u001b[0m: Can't instantiate abstract class SamplePlugin with abstract methods _stop, start"
     ]
    }
   ],
   "source": [
    "SamplePlugin()"
   ]
  },
  {
   "cell_type": "markdown",
   "metadata": {},
   "source": [
    "** We will start again with the Plugin Class definition and build the full Plugin. **"
   ]
  },
  {
   "cell_type": "code",
   "execution_count": 4,
   "metadata": {},
   "outputs": [],
   "source": [
    "class SamplePlugin(ControllerPlugin):\n",
    "    functionality =  []                         # Get the commands you built from the prior tutorial\n",
    "    def __init__(self):\n",
    "        \"\"\"\n",
    "        The plugin class is the last class to init,\n",
    "        but Database and logger have not started yet\n",
    "        Should not be using the database handles or the logger in this fn\n",
    "        \"\"\"\n",
    "        self.name = \"SamplePlugin\"\n",
    "        super().__init__(self.name, self.functionality)\n",
    "    def start(self, logger, ext_signal):\n",
    "        \"\"\"\n",
    "        Start function is called by the supervisor only\n",
    "        This function may assume the logger and the db is already start()ed\n",
    "        This function should include all calls required to run until ext_signal says to stop.\n",
    "\n",
    "        :param logger: <central logger> object for all log handling\n",
    "        :param ext_signal: <ctypes.bool> the kill signal\n",
    "        :return: This function calls exit! when complete\n",
    "        \"\"\"\n",
    "        pass\n",
    "    def _stop(self):\n",
    "        pass\n",
    "    "
   ]
  },
  {
   "cell_type": "code",
   "execution_count": 5,
   "metadata": {},
   "outputs": [
    {
     "data": {
      "text/plain": [
       "<__main__.SamplePlugin at 0x7f06d8c59c88>"
      ]
     },
     "execution_count": 5,
     "metadata": {},
     "output_type": "execute_result"
    }
   ],
   "source": [
    "SamplePlugin()"
   ]
  },
  {
   "cell_type": "code",
   "execution_count": null,
   "metadata": {},
   "outputs": [],
   "source": []
  }
 ],
 "metadata": {
  "kernelspec": {
   "display_name": "Python 3",
   "language": "python",
   "name": "python3"
  },
  "language_info": {
   "codemirror_mode": {
    "name": "ipython",
    "version": 3
   },
   "file_extension": ".py",
   "mimetype": "text/x-python",
   "name": "python",
   "nbconvert_exporter": "python",
   "pygments_lexer": "ipython3",
   "version": "3.6.3"
  }
 },
 "nbformat": 4,
 "nbformat_minor": 2
}
