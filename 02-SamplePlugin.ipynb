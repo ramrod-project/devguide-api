{
 "cells": [
  {
   "cell_type": "markdown",
   "metadata": {},
   "source": [
    "** We will start by building a sample plugin.  We will need to start with the base class for a Plugin Controller. **"
   ]
  },
  {
   "cell_type": "code",
   "execution_count": null,
   "metadata": {},
   "outputs": [],
   "source": [
    "try:\n",
    "    from src.controller_plugin import ControllerPlugin\n",
    "except ImportError:\n",
    "    from sys import path\n",
    "    path.append(\"/root/backend-interpreter/plugin_interpreter\")\n",
    "    print(path)\n",
    "    from src.controller_plugin import ControllerPlugin\n",
    "    from os import environ\n",
    "    environ[\"PORT\"] = \"10000\"                                 #The PCP Framework selects the port you will need to use"
   ]
  },
  {
   "cell_type": "markdown",
   "metadata": {},
   "source": [
    "** Filename must be the same as the Class Name.  For this example, we will use filename SamplePlugin.py and Class Name SamplePlugin for the \"Sample Plugin\" plugin. **\n",
    "** The __init__ shown below is the minimum requirements for the Plugin.**"
   ]
  },
  {
   "cell_type": "code",
   "execution_count": null,
   "metadata": {},
   "outputs": [],
   "source": [
    "class SamplePlugin(ControllerPlugin):\n",
    "    functionality =  []                         # Get the commands you built from the prior tutorial\n",
    "    def __init__(self):\n",
    "        \"\"\"\n",
    "        The plugin class is the last class to init,\n",
    "        but Database and logger have not started yet\n",
    "        Should not be using the database handles or the logger in this fn\n",
    "        \"\"\"\n",
    "        self.name = \"SamplePlugin\"\n",
    "        super().__init__(self.name, self.functionality)"
   ]
  },
  {
   "cell_type": "markdown",
   "metadata": {},
   "source": [
    "** Self.functionality can be empty, so that it can search for SamplePlugin.json.  Otherwise, your functionality can be passed as an argument. Moving forward, the SamplePlugin.json will be the preferred method for advertising functionality. The \"direct\" load of functionality is for backward compatibility and/or giving the plugin writer flexibility. **\n",
    "\n",
    "** Note that if you instantiate this new SamplePlugin, it will error out since you must write a minimum of a start and a stop function to overwrite the default functions. **"
   ]
  },
  {
   "cell_type": "code",
   "execution_count": null,
   "metadata": {},
   "outputs": [],
   "source": [
    "SamplePlugin()"
   ]
  },
  {
   "cell_type": "markdown",
   "metadata": {},
   "source": [
    "** We will start again with the Plugin Class definition and build the full Plugin. **"
   ]
  },
  {
   "cell_type": "code",
   "execution_count": null,
   "metadata": {},
   "outputs": [],
   "source": [
    "class SamplePlugin(ControllerPlugin):\n",
    "    functionality =  []                         # Get the commands you built from the prior tutorial\n",
    "    def __init__(self):\n",
    "        \"\"\"\n",
    "        The plugin class is the last class to init,\n",
    "        but Database and logger have not started yet\n",
    "        Should not be using the database handles or the logger in this fn\n",
    "        \"\"\"\n",
    "        self.name = \"SamplePlugin\"\n",
    "        super().__init__(self.name, self.functionality)\n",
    "    def start(self, logger, ext_signal):\n",
    "        \"\"\"\n",
    "        Start function is called by the supervisor only\n",
    "        This function may assume the logger and the db is already start()ed\n",
    "        This function should include all calls required to run until ext_signal says to stop.\n",
    "\n",
    "        :param logger: <central logger> object for all log handling\n",
    "        :param ext_signal: <ctypes.bool> the kill signal\n",
    "        :return: This function calls exit! when complete\n",
    "        \"\"\"\n",
    "        pass\n",
    "    def _stop(self):\n",
    "        pass\n",
    "    "
   ]
  },
  {
   "cell_type": "markdown",
   "metadata": {},
   "source": [
    "**  You will want to describe plugin \"loop\" functionality. **"
   ]
  },
  {
   "cell_type": "code",
   "execution_count": null,
   "metadata": {},
   "outputs": [],
   "source": [
    "SamplePlugin()"
   ]
  },
  {
   "cell_type": "code",
   "execution_count": null,
   "metadata": {},
   "outputs": [],
   "source": []
  }
 ],
 "metadata": {
  "kernelspec": {
   "display_name": "Python 3",
   "language": "python",
   "name": "python3"
  },
  "language_info": {
   "codemirror_mode": {
    "name": "ipython",
    "version": 3
   },
   "file_extension": ".py",
   "mimetype": "text/x-python",
   "name": "python",
   "nbconvert_exporter": "python",
   "pygments_lexer": "ipython3",
   "version": "3.6.3"
  }
 },
 "nbformat": 4,
 "nbformat_minor": 2
}
