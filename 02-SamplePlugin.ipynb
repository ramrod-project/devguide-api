{
 "cells": [
  {
   "cell_type": "markdown",
   "metadata": {},
   "source": [
    "# Simple plugin development\n",
    "\n",
    "This chapter covers plugin development where the plugin performs a task on behalf of an operator.\n",
    "\n",
    "Chapter 3 will cover plugin development where the PCP plugin acts as an intermediary between PCP and another controller (or set of controllers) to perform a function.  The concepts and requirements are exactly the same, but function arguments change"
   ]
  },
  {
   "cell_type": "markdown",
   "metadata": {},
   "source": [
    "# Framework Defined Environment Variables \n",
    "\n",
    "\n",
    "The PCP Environment will prepare environment variables on the plugin's behalf.\n",
    "\n",
    "1. The plugin must respect the environment \n",
    "2. The system shall select at most one integer port (in environment as ASCII string) available for the plugin in the **PORT** key\n",
    "   * The plugin may bind to that port at any point during it's lifetime\n",
    "   * The plugin should not attemt to bind/listen to ports other than the system-selected port (user may *hardcode* this port in a seperate subsytem)\n",
    "3. The system shall provide the hostname/IP of the brain in the **RETHINK_HOST** key\n",
    "   * The plugin shall use the ControllerPlugin class functions where possible\n",
    "   * The plugin may use the ramrodbrain (import brain) python package to communicate with the brain directly\n",
    "4. The system shall provide an indication of release version to the plugin in the **STAGE** key\n",
    "   * The system shall provide the exactly one ASCII string (one of \"DEV\" \"TESTING\", \"QA\", \"PROD\")\n",
    "   * The plugin may use this key as an indication of verbose logging, feature testing, etc\n",
    "5. The system shall populate the plugin name in the **PLUGIN_NAME** key.\n",
    "5. The plugin should not modify the enviornment variables.  (Changes will not be observed or respected by the PCP system).  \n"
   ]
  },
  {
   "cell_type": "code",
   "execution_count": 1,
   "metadata": {},
   "outputs": [],
   "source": [
    "\n",
    "\n",
    "#This Cell emulates the ramrodpcp system preparing the environment for the plugin\n",
    "from os import environ\n",
    "environ[\"PORT\"] = \"10000\" \n",
    "environ[\"RETHINK_HOST\"] = \"10.0.0.1\"\n",
    "environ[\"STAGE\"] = \"PROD\" \n",
    "environ['PLUGIN_NAME'] = \"SamplePlugin\""
   ]
  },
  {
   "cell_type": "markdown",
   "metadata": {},
   "source": [
    "# Extend the base class\n",
    "\n",
    "Every plugin should seek to extend the ControllerPlugin base class.\n",
    "\n",
    "This guide includes a vendored copy of the base class, but development should acquire the current master branch controller_plugin.py\n",
    "\n",
    "This project does not guarantee forward or backward API compatibility across major versions"
   ]
  },
  {
   "cell_type": "code",
   "execution_count": 2,
   "metadata": {},
   "outputs": [
    {
     "name": "stderr",
     "output_type": "stream",
     "text": [
      "\n",
      "Imported controller_plugin.py file is vendored from \n",
      "   https://github.com/ramrod-project/backend-interpreter/blob/master/src/controller_plugin.py  \n",
      "\n",
      "Ongoing development should obtain a copy from the ramrod-project/backend-interpreter\n",
      "\n"
     ]
    }
   ],
   "source": [
    "from src.controller_plugin import ControllerPlugin"
   ]
  },
  {
   "cell_type": "markdown",
   "metadata": {},
   "source": [
    "# [REQ-C] Author a compatible (but failing) plugin\n",
    "\n",
    "3 requirements for a compatible plugin name\n",
    "\n",
    "1. **Naming** The Filename must match the Class name\n",
    "  1. Filename is SamplePlugin.py, ClassName is SamplePlugin\n",
    "2. **Advertisemnt** The plugin advertises its command functionality in the  \\__init\\__ function with a static **list** of commands\n",
    "  1. The Commands should be static, updating plugin command list during execution is possible but unsupported.\n",
    "  2. Command syntax is defined in *The Brain Documentation* and can be verified with the brain helper functions\n",
    "3. **\\_start function** Implement a \\_start function\n",
    "  1. the \\_ start function should hold control flow for the duration of the plugin's existance.\n",
    "  2. the plugin may retuen any type (including None) from \\_start to instruct the system that the plugin has exited. "
   ]
  },
  {
   "cell_type": "code",
   "execution_count": 6,
   "metadata": {},
   "outputs": [],
   "source": [
    "from src.controller_plugin import ControllerPlugin\n",
    "FUNCTIONALITY = [] # [REQ-C]-2.a\n",
    "class SamplePlugin(ControllerPlugin): # [REQ-C]-1\n",
    "    def __init__(self):\n",
    "        self.name = \"SamplePlugin\"\n",
    "        super().__init__(self.name, FUNCTIONALITY) # [REQ-C]-2.b\n",
    "    def _start(self): # [REQ-C]-3\n",
    "        return None # [REQ-C]-3.b\n",
    "plugin = SamplePlugin()"
   ]
  },
  {
   "cell_type": "markdown",
   "metadata": {},
   "source": [
    "## Note about compatible plugin\n",
    "The above plugin contains no command functionality and would exit immediately on start via return None statement\n",
    "\n",
    "This is considered failing [REQ-C]-3 because it is not holding program control flow\n"
   ]
  },
  {
   "cell_type": "markdown",
   "metadata": {},
   "source": [
    "\n",
    "\n",
    "\n",
    "## Assumptions about SamplePlugin\n",
    "* SamplePlugin is a web scraper\n",
    "* PCP sytem may deploy one or many web scrapers\n",
    "* Each web scraper asks for a Job containing a URL to scrape\n",
    "* The web scraper returns the HTML for one URL (without crawling on it's own)\n",
    "\n",
    "\n",
    "\n",
    "#  [REQ-F] Author a fully functional SamplePlugin\n",
    "3 requremnts for a fully functional plugin\n",
    "\n",
    "\n",
    "1. implements a control loop with logic to hold control for the duration of existance\n",
    "2. Plugin may request a job at any time\n",
    "  1. Job will be a command mapped to a target (see *The Brain Documentation* for more details)\n",
    "  2. The Job may be NoneType if there is no Job at the time of request.  \n",
    "    1. It is the plugin's responsibility to back off job requests (if desired) to conserve resources.\n",
    "  3. The JobCommand portion of the Job will be the exact command the plugin advertised (filled out by a user)\n",
    "      1. With the exception of a modified Value parameter (think plug and chug)\n",
    "      2. in this case job[\"JobCommand\"][\"Inputs\"][i][\"Value\"] will be modified\n",
    " \n",
    "3. The Plugin must supply string (or utf-8 encoded bytes) output \n",
    "  1. The plugin may supply a blank string if no output is required \n",
    "\n",
    "\n",
    "notes: \n",
    "* PCP system may kill the process at any time\n",
    "* The Plugin may request jobs and return output at any time so long as it appropriately tracks Job['id']\n",
    "* The processing may be in serial or in parallel (this example is serial)"
   ]
  },
  {
   "cell_type": "code",
   "execution_count": 9,
   "metadata": {},
   "outputs": [],
   "source": [
    "from src.controller_plugin import ControllerPlugin\n",
    "import requests\n",
    "cmdWget = {\"CommandName\" : \"wget\",\n",
    "          \"Tooltip\" : \"Retrieves raw webpage content\",\n",
    "          \"Output\" : True,\n",
    "          \"Inputs\" : [{\"Name\" : \"Target IP Address\",\n",
    "                     \"Type\" : \"textbox\",\n",
    "                     \"Tooltip\" : \"Modify the URL to the desired target IP address\",\n",
    "                     \"Value\" : \"\"}]}\n",
    "FUNCTIONALITY = [cmdWget] # [REQ-C]-2.a\n",
    "class SamplePlugin(ControllerPlugin): # [REQ-C]-1\n",
    "    def __init__(self):\n",
    "        self.name = \"SamplePlugin\"\n",
    "        super().__init__(self.name, FUNCTIONALITY) # [REQ-C]-2.b\n",
    "    def _start(self): # [REQ-C]-3\n",
    "        while True: #  [REQ-F]-1 (simple control loop)\n",
    "            job = self.request_job() # [REQ-F]-2\n",
    "            if job: # [REQ-F]-2.B\n",
    "                url = job['JobCommand']['Inputs'][0][\"Value\"]\n",
    "                resposne = requests.get(url)\n",
    "                if response:\n",
    "                    output = response.content # preparing for [REQ-F]-3\n",
    "                else:\n",
    "                    output = \"\" # preparing for [REQ-F]-3.A\n",
    "                self.respond_output(job, output) # [REQ-F]-3\n",
    "\n",
    "plugin = SamplePlugin()"
   ]
  },
  {
   "cell_type": "markdown",
   "metadata": {},
   "source": [
    "## Additional Notes\n",
    "\n",
    "In this sample, the PCP system may invoke dozens or hundreds of SamplePlugins.  The PCP system may provide discrete work to each job.  The plugins should only invoke code to execute the job(s) it's currently operating on.  \n",
    "\n",
    "### PCP Guarantees\n",
    "1. The PCP system may spin up a fleet of multiple of the same plugins.  \n",
    "2. The request_job function will give a job to at most one of the plugins which requests one.\n",
    "3. The request_job function will deliver the jobs in ascending order of job['StartTime'] \n",
    "4. The request_job function will never deliver a job to a plugin where job['ExpireTime'] is in the past."
   ]
  },
  {
   "cell_type": "code",
   "execution_count": null,
   "metadata": {},
   "outputs": [],
   "source": []
  },
  {
   "cell_type": "code",
   "execution_count": null,
   "metadata": {},
   "outputs": [],
   "source": []
  }
 ],
 "metadata": {
  "kernelspec": {
   "display_name": "Python 3",
   "language": "python",
   "name": "python3"
  },
  "language_info": {
   "codemirror_mode": {
    "name": "ipython",
    "version": 3
   },
   "file_extension": ".py",
   "mimetype": "text/x-python",
   "name": "python",
   "nbconvert_exporter": "python",
   "pygments_lexer": "ipython3",
   "version": "3.6.5"
  }
 },
 "nbformat": 4,
 "nbformat_minor": 2
}
